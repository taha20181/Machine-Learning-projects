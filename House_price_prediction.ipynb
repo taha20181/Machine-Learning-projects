{
  "nbformat": 4,
  "nbformat_minor": 0,
  "metadata": {
    "colab": {
      "name": "House-price.ipynb",
      "provenance": [],
      "collapsed_sections": []
    },
    "kernelspec": {
      "name": "python3",
      "display_name": "Python 3"
    }
  },
  "cells": [
    {
      "cell_type": "code",
      "metadata": {
        "id": "IeelKnvnaj11"
      },
      "source": [
        "import numpy as np\n",
        "import matplotlib.pyplot as plt\n",
        "import pandas as pd"
      ],
      "execution_count": 3,
      "outputs": []
    },
    {
      "cell_type": "code",
      "metadata": {
        "id": "MwKYMzzma2H8",
        "colab": {
          "base_uri": "https://localhost:8080/"
        },
        "outputId": "0c0711eb-e123-48ac-ef87-66f00e363956"
      },
      "source": [
        "df = pd.read_csv('/content/drive/My Drive/Python/PycharmProjects/kc_house_data.csv')\n",
        "df.columns"
      ],
      "execution_count": 4,
      "outputs": [
        {
          "output_type": "execute_result",
          "data": {
            "text/plain": [
              "Index(['id', 'date', 'price', 'bedrooms', 'bathrooms', 'sqft_living',\n",
              "       'sqft_lot', 'floors', 'waterfront', 'view', 'condition', 'grade',\n",
              "       'sqft_above', 'sqft_basement', 'yr_built', 'yr_renovated', 'zipcode',\n",
              "       'lat', 'long', 'sqft_living15', 'sqft_lot15'],\n",
              "      dtype='object')"
            ]
          },
          "metadata": {
            "tags": []
          },
          "execution_count": 4
        }
      ]
    },
    {
      "cell_type": "code",
      "metadata": {
        "id": "8Lag9S9PdyuP",
        "colab": {
          "base_uri": "https://localhost:8080/"
        },
        "outputId": "e95c55d7-bde2-47eb-a922-eb479b8b420f"
      },
      "source": [
        "df.dtypes"
      ],
      "execution_count": 5,
      "outputs": [
        {
          "output_type": "execute_result",
          "data": {
            "text/plain": [
              "id                 int64\n",
              "date              object\n",
              "price            float64\n",
              "bedrooms           int64\n",
              "bathrooms        float64\n",
              "sqft_living        int64\n",
              "sqft_lot           int64\n",
              "floors           float64\n",
              "waterfront         int64\n",
              "view               int64\n",
              "condition          int64\n",
              "grade              int64\n",
              "sqft_above         int64\n",
              "sqft_basement      int64\n",
              "yr_built           int64\n",
              "yr_renovated       int64\n",
              "zipcode            int64\n",
              "lat              float64\n",
              "long             float64\n",
              "sqft_living15      int64\n",
              "sqft_lot15         int64\n",
              "dtype: object"
            ]
          },
          "metadata": {
            "tags": []
          },
          "execution_count": 5
        }
      ]
    },
    {
      "cell_type": "code",
      "metadata": {
        "id": "Av7P2JW8fH7l",
        "colab": {
          "base_uri": "https://localhost:8080/"
        },
        "outputId": "a58461df-de4c-48cb-fe43-814535f3024e"
      },
      "source": [
        "df = df.drop(['id', 'date'], axis=1)\n",
        "df.columns"
      ],
      "execution_count": 6,
      "outputs": [
        {
          "output_type": "execute_result",
          "data": {
            "text/plain": [
              "Index(['price', 'bedrooms', 'bathrooms', 'sqft_living', 'sqft_lot', 'floors',\n",
              "       'waterfront', 'view', 'condition', 'grade', 'sqft_above',\n",
              "       'sqft_basement', 'yr_built', 'yr_renovated', 'zipcode', 'lat', 'long',\n",
              "       'sqft_living15', 'sqft_lot15'],\n",
              "      dtype='object')"
            ]
          },
          "metadata": {
            "tags": []
          },
          "execution_count": 6
        }
      ]
    },
    {
      "cell_type": "code",
      "metadata": {
        "id": "tLBMR6-pfQPS",
        "colab": {
          "base_uri": "https://localhost:8080/",
          "height": 223
        },
        "outputId": "d079cef7-3be3-4222-df6c-11a57c801005"
      },
      "source": [
        "df.head()"
      ],
      "execution_count": 7,
      "outputs": [
        {
          "output_type": "execute_result",
          "data": {
            "text/html": [
              "<div>\n",
              "<style scoped>\n",
              "    .dataframe tbody tr th:only-of-type {\n",
              "        vertical-align: middle;\n",
              "    }\n",
              "\n",
              "    .dataframe tbody tr th {\n",
              "        vertical-align: top;\n",
              "    }\n",
              "\n",
              "    .dataframe thead th {\n",
              "        text-align: right;\n",
              "    }\n",
              "</style>\n",
              "<table border=\"1\" class=\"dataframe\">\n",
              "  <thead>\n",
              "    <tr style=\"text-align: right;\">\n",
              "      <th></th>\n",
              "      <th>price</th>\n",
              "      <th>bedrooms</th>\n",
              "      <th>bathrooms</th>\n",
              "      <th>sqft_living</th>\n",
              "      <th>sqft_lot</th>\n",
              "      <th>floors</th>\n",
              "      <th>waterfront</th>\n",
              "      <th>view</th>\n",
              "      <th>condition</th>\n",
              "      <th>grade</th>\n",
              "      <th>sqft_above</th>\n",
              "      <th>sqft_basement</th>\n",
              "      <th>yr_built</th>\n",
              "      <th>yr_renovated</th>\n",
              "      <th>zipcode</th>\n",
              "      <th>lat</th>\n",
              "      <th>long</th>\n",
              "      <th>sqft_living15</th>\n",
              "      <th>sqft_lot15</th>\n",
              "    </tr>\n",
              "  </thead>\n",
              "  <tbody>\n",
              "    <tr>\n",
              "      <th>0</th>\n",
              "      <td>221900.0</td>\n",
              "      <td>3</td>\n",
              "      <td>1.00</td>\n",
              "      <td>1180</td>\n",
              "      <td>5650</td>\n",
              "      <td>1.0</td>\n",
              "      <td>0</td>\n",
              "      <td>0</td>\n",
              "      <td>3</td>\n",
              "      <td>7</td>\n",
              "      <td>1180</td>\n",
              "      <td>0</td>\n",
              "      <td>1955</td>\n",
              "      <td>0</td>\n",
              "      <td>98178</td>\n",
              "      <td>47.5112</td>\n",
              "      <td>-122.257</td>\n",
              "      <td>1340</td>\n",
              "      <td>5650</td>\n",
              "    </tr>\n",
              "    <tr>\n",
              "      <th>1</th>\n",
              "      <td>538000.0</td>\n",
              "      <td>3</td>\n",
              "      <td>2.25</td>\n",
              "      <td>2570</td>\n",
              "      <td>7242</td>\n",
              "      <td>2.0</td>\n",
              "      <td>0</td>\n",
              "      <td>0</td>\n",
              "      <td>3</td>\n",
              "      <td>7</td>\n",
              "      <td>2170</td>\n",
              "      <td>400</td>\n",
              "      <td>1951</td>\n",
              "      <td>1991</td>\n",
              "      <td>98125</td>\n",
              "      <td>47.7210</td>\n",
              "      <td>-122.319</td>\n",
              "      <td>1690</td>\n",
              "      <td>7639</td>\n",
              "    </tr>\n",
              "    <tr>\n",
              "      <th>2</th>\n",
              "      <td>180000.0</td>\n",
              "      <td>2</td>\n",
              "      <td>1.00</td>\n",
              "      <td>770</td>\n",
              "      <td>10000</td>\n",
              "      <td>1.0</td>\n",
              "      <td>0</td>\n",
              "      <td>0</td>\n",
              "      <td>3</td>\n",
              "      <td>6</td>\n",
              "      <td>770</td>\n",
              "      <td>0</td>\n",
              "      <td>1933</td>\n",
              "      <td>0</td>\n",
              "      <td>98028</td>\n",
              "      <td>47.7379</td>\n",
              "      <td>-122.233</td>\n",
              "      <td>2720</td>\n",
              "      <td>8062</td>\n",
              "    </tr>\n",
              "    <tr>\n",
              "      <th>3</th>\n",
              "      <td>604000.0</td>\n",
              "      <td>4</td>\n",
              "      <td>3.00</td>\n",
              "      <td>1960</td>\n",
              "      <td>5000</td>\n",
              "      <td>1.0</td>\n",
              "      <td>0</td>\n",
              "      <td>0</td>\n",
              "      <td>5</td>\n",
              "      <td>7</td>\n",
              "      <td>1050</td>\n",
              "      <td>910</td>\n",
              "      <td>1965</td>\n",
              "      <td>0</td>\n",
              "      <td>98136</td>\n",
              "      <td>47.5208</td>\n",
              "      <td>-122.393</td>\n",
              "      <td>1360</td>\n",
              "      <td>5000</td>\n",
              "    </tr>\n",
              "    <tr>\n",
              "      <th>4</th>\n",
              "      <td>510000.0</td>\n",
              "      <td>3</td>\n",
              "      <td>2.00</td>\n",
              "      <td>1680</td>\n",
              "      <td>8080</td>\n",
              "      <td>1.0</td>\n",
              "      <td>0</td>\n",
              "      <td>0</td>\n",
              "      <td>3</td>\n",
              "      <td>8</td>\n",
              "      <td>1680</td>\n",
              "      <td>0</td>\n",
              "      <td>1987</td>\n",
              "      <td>0</td>\n",
              "      <td>98074</td>\n",
              "      <td>47.6168</td>\n",
              "      <td>-122.045</td>\n",
              "      <td>1800</td>\n",
              "      <td>7503</td>\n",
              "    </tr>\n",
              "  </tbody>\n",
              "</table>\n",
              "</div>"
            ],
            "text/plain": [
              "      price  bedrooms  bathrooms  ...     long  sqft_living15  sqft_lot15\n",
              "0  221900.0         3       1.00  ... -122.257           1340        5650\n",
              "1  538000.0         3       2.25  ... -122.319           1690        7639\n",
              "2  180000.0         2       1.00  ... -122.233           2720        8062\n",
              "3  604000.0         4       3.00  ... -122.393           1360        5000\n",
              "4  510000.0         3       2.00  ... -122.045           1800        7503\n",
              "\n",
              "[5 rows x 19 columns]"
            ]
          },
          "metadata": {
            "tags": []
          },
          "execution_count": 7
        }
      ]
    },
    {
      "cell_type": "code",
      "metadata": {
        "id": "xt3caRRFfag5",
        "colab": {
          "base_uri": "https://localhost:8080/"
        },
        "outputId": "ed060aa9-0f18-4b07-e435-49f2f62a5d49"
      },
      "source": [
        "df['price'].corr(df['sqft_living'])"
      ],
      "execution_count": 8,
      "outputs": [
        {
          "output_type": "execute_result",
          "data": {
            "text/plain": [
              "0.7020350546117996"
            ]
          },
          "metadata": {
            "tags": []
          },
          "execution_count": 8
        }
      ]
    },
    {
      "cell_type": "code",
      "metadata": {
        "id": "YEeWl-uNgi12",
        "colab": {
          "base_uri": "https://localhost:8080/",
          "height": 307
        },
        "outputId": "71a9ba1d-75ef-44bc-d3a1-bee823f65b96"
      },
      "source": [
        "df.plot.scatter(x='bedrooms', y='price')"
      ],
      "execution_count": 9,
      "outputs": [
        {
          "output_type": "execute_result",
          "data": {
            "text/plain": [
              "<matplotlib.axes._subplots.AxesSubplot at 0x7f2ff8fbfb50>"
            ]
          },
          "metadata": {
            "tags": []
          },
          "execution_count": 9
        },
        {
          "output_type": "display_data",
          "data": {
            "image/png": "[encoded data removed]",
            "text/plain": [
              "<Figure size 432x288 with 1 Axes>"
            ]
          },
          "metadata": {
            "tags": [],
            "needs_background": "light"
          }
        }
      ]
    },
    {
      "cell_type": "code",
      "metadata": {
        "id": "M1-crX-yjhje",
        "colab": {
          "base_uri": "https://localhost:8080/"
        },
        "outputId": "304ad9f3-df37-451d-e9b7-22dd09a4fd14"
      },
      "source": [
        "#x is the explanatory variables\n",
        "#variables used to predict\n",
        "\n",
        "X = df.iloc[:,1:].values\n",
        "X[0]"
      ],
      "execution_count": 10,
      "outputs": [
        {
          "output_type": "execute_result",
          "data": {
            "text/plain": [
              "array([ 3.00000e+00,  1.00000e+00,  1.18000e+03,  5.65000e+03,\n",
              "        1.00000e+00,  0.00000e+00,  0.00000e+00,  3.00000e+00,\n",
              "        7.00000e+00,  1.18000e+03,  0.00000e+00,  1.95500e+03,\n",
              "        0.00000e+00,  9.81780e+04,  4.75112e+01, -1.22257e+02,\n",
              "        1.34000e+03,  5.65000e+03])"
            ]
          },
          "metadata": {
            "tags": []
          },
          "execution_count": 10
        }
      ]
    },
    {
      "cell_type": "code",
      "metadata": {
        "id": "KaJS-TlsoIyq",
        "colab": {
          "base_uri": "https://localhost:8080/"
        },
        "outputId": "da7eb9db-96a6-4189-97c3-6d231ddf8e17"
      },
      "source": [
        "#y is the explained variable (price in this case)\n",
        "#variable tryong to predict\n",
        "y = df.iloc[:,0].values\n",
        "y[0]"
      ],
      "execution_count": 11,
      "outputs": [
        {
          "output_type": "execute_result",
          "data": {
            "text/plain": [
              "221900.0"
            ]
          },
          "metadata": {
            "tags": []
          },
          "execution_count": 11
        }
      ]
    },
    {
      "cell_type": "code",
      "metadata": {
        "id": "QaKbIGaiouxr"
      },
      "source": [
        "from sklearn.model_selection import train_test_split"
      ],
      "execution_count": 12,
      "outputs": []
    },
    {
      "cell_type": "code",
      "metadata": {
        "id": "qiFOuhG4p8UC"
      },
      "source": [
        "x_train, x_test, y_train, y_test = train_test_split(X, y, test_size= 1/3, shuffle = False)"
      ],
      "execution_count": 13,
      "outputs": []
    },
    {
      "cell_type": "code",
      "metadata": {
        "id": "sw_4O_Lqq3nj",
        "colab": {
          "base_uri": "https://localhost:8080/"
        },
        "outputId": "c66538bb-3a14-4d30-a7a9-0336a9c84ca8"
      },
      "source": [
        "import statsmodels.api as sm"
      ],
      "execution_count": 17,
      "outputs": [
        {
          "output_type": "stream",
          "text": [
            "/usr/local/lib/python3.7/dist-packages/statsmodels/tools/_testing.py:19: FutureWarning: pandas.util.testing is deprecated. Use the functions in the public API at pandas.testing instead.\n",
            "  import pandas.util.testing as tm\n"
          ],
          "name": "stderr"
        }
      ]
    },
    {
      "cell_type": "code",
      "metadata": {
        "id": "6kUYSunjrQf2"
      },
      "source": [
        "model = sm.OLS(y_train, x_train).fit()"
      ],
      "execution_count": 18,
      "outputs": []
    },
    {
      "cell_type": "code",
      "metadata": {
        "id": "t7AUdV0crin0",
        "colab": {
          "base_uri": "https://localhost:8080/",
          "height": 792
        },
        "outputId": "f385f5e5-25fd-4d6d-8ae3-e6e1385773b4"
      },
      "source": [
        "model.summary()"
      ],
      "execution_count": 19,
      "outputs": [
        {
          "output_type": "execute_result",
          "data": {
            "text/html": [
              "<table class=\"simpletable\">\n",
              "<caption>OLS Regression Results</caption>\n",
              "<tr>\n",
              "  <th>Dep. Variable:</th>            <td>y</td>        <th>  R-squared (uncentered):</th>       <td>   0.902</td>  \n",
              "</tr>\n",
              "<tr>\n",
              "  <th>Model:</th>                   <td>OLS</td>       <th>  Adj. R-squared (uncentered):</th>  <td>   0.902</td>  \n",
              "</tr>\n",
              "<tr>\n",
              "  <th>Method:</th>             <td>Least Squares</td>  <th>  F-statistic:       </th>           <td>   7821.</td>  \n",
              "</tr>\n",
              "<tr>\n",
              "  <th>Date:</th>             <td>Tue, 15 Jun 2021</td> <th>  Prob (F-statistic):</th>            <td>  0.00</td>   \n",
              "</tr>\n",
              "<tr>\n",
              "  <th>Time:</th>                 <td>19:24:14</td>     <th>  Log-Likelihood:    </th>          <td>-1.9647e+05</td>\n",
              "</tr>\n",
              "<tr>\n",
              "  <th>No. Observations:</th>      <td> 14408</td>      <th>  AIC:               </th>           <td>3.930e+05</td> \n",
              "</tr>\n",
              "<tr>\n",
              "  <th>Df Residuals:</th>          <td> 14391</td>      <th>  BIC:               </th>           <td>3.931e+05</td> \n",
              "</tr>\n",
              "<tr>\n",
              "  <th>Df Model:</th>              <td>    17</td>      <th>                     </th>               <td> </td>     \n",
              "</tr>\n",
              "<tr>\n",
              "  <th>Covariance Type:</th>      <td>nonrobust</td>    <th>                     </th>               <td> </td>     \n",
              "</tr>\n",
              "</table>\n",
              "<table class=\"simpletable\">\n",
              "<tr>\n",
              "   <td></td>      <th>coef</th>     <th>std err</th>      <th>t</th>      <th>P>|t|</th>  <th>[0.025</th>    <th>0.975]</th>  \n",
              "</tr>\n",
              "<tr>\n",
              "  <th>x1</th>  <td> -3.79e+04</td> <td> 2387.699</td> <td>  -15.872</td> <td> 0.000</td> <td>-4.26e+04</td> <td>-3.32e+04</td>\n",
              "</tr>\n",
              "<tr>\n",
              "  <th>x2</th>  <td>   3.8e+04</td> <td> 4042.265</td> <td>    9.401</td> <td> 0.000</td> <td> 3.01e+04</td> <td> 4.59e+04</td>\n",
              "</tr>\n",
              "<tr>\n",
              "  <th>x3</th>  <td>  114.9542</td> <td>    2.776</td> <td>   41.415</td> <td> 0.000</td> <td>  109.514</td> <td>  120.395</td>\n",
              "</tr>\n",
              "<tr>\n",
              "  <th>x4</th>  <td>    0.1601</td> <td>    0.057</td> <td>    2.832</td> <td> 0.005</td> <td>    0.049</td> <td>    0.271</td>\n",
              "</tr>\n",
              "<tr>\n",
              "  <th>x5</th>  <td>-4683.5929</td> <td> 4593.383</td> <td>   -1.020</td> <td> 0.308</td> <td>-1.37e+04</td> <td> 4320.029</td>\n",
              "</tr>\n",
              "<tr>\n",
              "  <th>x6</th>  <td> 6.516e+05</td> <td> 2.16e+04</td> <td>   30.148</td> <td> 0.000</td> <td> 6.09e+05</td> <td> 6.94e+05</td>\n",
              "</tr>\n",
              "<tr>\n",
              "  <th>x7</th>  <td>  4.89e+04</td> <td> 2583.740</td> <td>   18.924</td> <td> 0.000</td> <td> 4.38e+04</td> <td>  5.4e+04</td>\n",
              "</tr>\n",
              "<tr>\n",
              "  <th>x8</th>  <td>  2.66e+04</td> <td> 2745.510</td> <td>    9.688</td> <td> 0.000</td> <td> 2.12e+04</td> <td>  3.2e+04</td>\n",
              "</tr>\n",
              "<tr>\n",
              "  <th>x9</th>  <td> 8.927e+04</td> <td> 2677.948</td> <td>   33.336</td> <td> 0.000</td> <td>  8.4e+04</td> <td> 9.45e+04</td>\n",
              "</tr>\n",
              "<tr>\n",
              "  <th>x10</th> <td>   78.7031</td> <td>    2.863</td> <td>   27.492</td> <td> 0.000</td> <td>   73.092</td> <td>   84.315</td>\n",
              "</tr>\n",
              "<tr>\n",
              "  <th>x11</th> <td>   36.2511</td> <td>    3.227</td> <td>   11.232</td> <td> 0.000</td> <td>   29.925</td> <td>   42.577</td>\n",
              "</tr>\n",
              "<tr>\n",
              "  <th>x12</th> <td>-2806.2296</td> <td>   84.558</td> <td>  -33.187</td> <td> 0.000</td> <td>-2971.974</td> <td>-2640.485</td>\n",
              "</tr>\n",
              "<tr>\n",
              "  <th>x13</th> <td>   23.9591</td> <td>    4.367</td> <td>    5.487</td> <td> 0.000</td> <td>   15.400</td> <td>   32.518</td>\n",
              "</tr>\n",
              "<tr>\n",
              "  <th>x14</th> <td> -476.2924</td> <td>   22.225</td> <td>  -21.430</td> <td> 0.000</td> <td> -519.856</td> <td> -432.728</td>\n",
              "</tr>\n",
              "<tr>\n",
              "  <th>x15</th> <td> 5.798e+05</td> <td> 1.31e+04</td> <td>   44.235</td> <td> 0.000</td> <td> 5.54e+05</td> <td> 6.05e+05</td>\n",
              "</tr>\n",
              "<tr>\n",
              "  <th>x16</th> <td>-1.965e+05</td> <td> 1.63e+04</td> <td>  -12.087</td> <td> 0.000</td> <td>-2.28e+05</td> <td>-1.65e+05</td>\n",
              "</tr>\n",
              "<tr>\n",
              "  <th>x17</th> <td>   32.9731</td> <td>    4.297</td> <td>    7.674</td> <td> 0.000</td> <td>   24.551</td> <td>   41.395</td>\n",
              "</tr>\n",
              "<tr>\n",
              "  <th>x18</th> <td>   -0.4450</td> <td>    0.089</td> <td>   -5.026</td> <td> 0.000</td> <td>   -0.619</td> <td>   -0.271</td>\n",
              "</tr>\n",
              "</table>\n",
              "<table class=\"simpletable\">\n",
              "<tr>\n",
              "  <th>Omnibus:</th>       <td>13429.888</td> <th>  Durbin-Watson:     </th>  <td>   1.993</td>  \n",
              "</tr>\n",
              "<tr>\n",
              "  <th>Prob(Omnibus):</th>  <td> 0.000</td>   <th>  Jarque-Bera (JB):  </th> <td>1927343.724</td>\n",
              "</tr>\n",
              "<tr>\n",
              "  <th>Skew:</th>           <td> 4.038</td>   <th>  Prob(JB):          </th>  <td>    0.00</td>  \n",
              "</tr>\n",
              "<tr>\n",
              "  <th>Kurtosis:</th>       <td>59.082</td>   <th>  Cond. No.          </th>  <td>3.73e+17</td>  \n",
              "</tr>\n",
              "</table><br/><br/>Warnings:<br/>[1] Standard Errors assume that the covariance matrix of the errors is correctly specified.<br/>[2] The smallest eigenvalue is 1.06e-21. This might indicate that there are<br/>strong multicollinearity problems or that the design matrix is singular."
            ],
            "text/plain": [
              "<class 'statsmodels.iolib.summary.Summary'>\n",
              "\"\"\"\n",
              "                                 OLS Regression Results                                \n",
              "=======================================================================================\n",
              "Dep. Variable:                      y   R-squared (uncentered):                   0.902\n",
              "Model:                            OLS   Adj. R-squared (uncentered):              0.902\n",
              "Method:                 Least Squares   F-statistic:                              7821.\n",
              "Date:                Tue, 15 Jun 2021   Prob (F-statistic):                        0.00\n",
              "Time:                        19:24:14   Log-Likelihood:                     -1.9647e+05\n",
              "No. Observations:               14408   AIC:                                  3.930e+05\n",
              "Df Residuals:                   14391   BIC:                                  3.931e+05\n",
              "Df Model:                          17                                                  \n",
              "Covariance Type:            nonrobust                                                  \n",
              "==============================================================================\n",
              "                 coef    std err          t      P>|t|      [0.025      0.975]\n",
              "------------------------------------------------------------------------------\n",
              "x1          -3.79e+04   2387.699    -15.872      0.000   -4.26e+04   -3.32e+04\n",
              "x2            3.8e+04   4042.265      9.401      0.000    3.01e+04    4.59e+04\n",
              "x3           114.9542      2.776     41.415      0.000     109.514     120.395\n",
              "x4             0.1601      0.057      2.832      0.005       0.049       0.271\n",
              "x5         -4683.5929   4593.383     -1.020      0.308   -1.37e+04    4320.029\n",
              "x6          6.516e+05   2.16e+04     30.148      0.000    6.09e+05    6.94e+05\n",
              "x7           4.89e+04   2583.740     18.924      0.000    4.38e+04     5.4e+04\n",
              "x8           2.66e+04   2745.510      9.688      0.000    2.12e+04     3.2e+04\n",
              "x9          8.927e+04   2677.948     33.336      0.000     8.4e+04    9.45e+04\n",
              "x10           78.7031      2.863     27.492      0.000      73.092      84.315\n",
              "x11           36.2511      3.227     11.232      0.000      29.925      42.577\n",
              "x12        -2806.2296     84.558    -33.187      0.000   -2971.974   -2640.485\n",
              "x13           23.9591      4.367      5.487      0.000      15.400      32.518\n",
              "x14         -476.2924     22.225    -21.430      0.000    -519.856    -432.728\n",
              "x15         5.798e+05   1.31e+04     44.235      0.000    5.54e+05    6.05e+05\n",
              "x16        -1.965e+05   1.63e+04    -12.087      0.000   -2.28e+05   -1.65e+05\n",
              "x17           32.9731      4.297      7.674      0.000      24.551      41.395\n",
              "x18           -0.4450      0.089     -5.026      0.000      -0.619      -0.271\n",
              "==============================================================================\n",
              "Omnibus:                    13429.888   Durbin-Watson:                   1.993\n",
              "Prob(Omnibus):                  0.000   Jarque-Bera (JB):          1927343.724\n",
              "Skew:                           4.038   Prob(JB):                         0.00\n",
              "Kurtosis:                      59.082   Cond. No.                     3.73e+17\n",
              "==============================================================================\n",
              "\n",
              "Warnings:\n",
              "[1] Standard Errors assume that the covariance matrix of the errors is correctly specified.\n",
              "[2] The smallest eigenvalue is 1.06e-21. This might indicate that there are\n",
              "strong multicollinearity problems or that the design matrix is singular.\n",
              "\"\"\""
            ]
          },
          "metadata": {
            "tags": []
          },
          "execution_count": 19
        }
      ]
    },
    {
      "cell_type": "code",
      "metadata": {
        "id": "X9Yq8XwDrpT8"
      },
      "source": [
        "predictions = model.predict(x_test)"
      ],
      "execution_count": 22,
      "outputs": []
    },
    {
      "cell_type": "code",
      "metadata": {
        "id": "Woq-Tou5s8Fo",
        "colab": {
          "base_uri": "https://localhost:8080/"
        },
        "outputId": "4b8431b8-654d-484e-f656-9d97257d90e9"
      },
      "source": [
        "predictions[10]"
      ],
      "execution_count": 23,
      "outputs": [
        {
          "output_type": "execute_result",
          "data": {
            "text/plain": [
              "503304.5841955022"
            ]
          },
          "metadata": {
            "tags": []
          },
          "execution_count": 23
        }
      ]
    },
    {
      "cell_type": "code",
      "metadata": {
        "id": "V3yqZwXVs_ek",
        "colab": {
          "base_uri": "https://localhost:8080/"
        },
        "outputId": "70df1dec-260b-49ac-e9ca-3de8059bcc65"
      },
      "source": [
        "y_test[10]"
      ],
      "execution_count": 24,
      "outputs": [
        {
          "output_type": "execute_result",
          "data": {
            "text/plain": [
              "606500.0"
            ]
          },
          "metadata": {
            "tags": []
          },
          "execution_count": 24
        }
      ]
    },
    {
      "cell_type": "code",
      "metadata": {
        "id": "vwqFA7C0tS1X"
      },
      "source": [
        "from sklearn.metrics import mean_squared_error"
      ],
      "execution_count": 25,
      "outputs": []
    },
    {
      "cell_type": "code",
      "metadata": {
        "id": "Uyigz9BRuvqF",
        "colab": {
          "base_uri": "https://localhost:8080/"
        },
        "outputId": "41840113-9eb3-41ef-eb12-1e9e126e203c"
      },
      "source": [
        "mean_squared_error(predictions, y_test)"
      ],
      "execution_count": 26,
      "outputs": [
        {
          "output_type": "execute_result",
          "data": {
            "text/plain": [
              "40275521020.8236"
            ]
          },
          "metadata": {
            "tags": []
          },
          "execution_count": 26
        }
      ]
    },
    {
      "cell_type": "code",
      "metadata": {
        "id": "6ia0qtKTIonr"
      },
      "source": [
        ""
      ],
      "execution_count": 26,
      "outputs": []
    }
  ]
}